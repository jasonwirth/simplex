{
 "metadata": {
  "name": "simplex_solver"
 },
 "nbformat": 3,
 "nbformat_minor": 0,
 "worksheets": [
  {
   "cells": [
    {
     "cell_type": "code",
     "collapsed": false,
     "input": [
      "import numpy as np\n",
      "np.set_printoptions(precision=3, suppress=True, linewidth=150)\n",
      "%config IPCompleter.greedy = True"
     ],
     "language": "python",
     "metadata": {},
     "outputs": []
    },
    {
     "cell_type": "code",
     "collapsed": false,
     "input": [
      "t = np.array([[200, 100, 100, 1, 0, 0, 200], \\\n",
      "              [100, 200, 600, 0, 1, 0, 300], \\\n",
      "              [-1000, -1400, -3000, 0, 0, 1, 0]], \\\n",
      "             dtype=np.float)"
     ],
     "language": "python",
     "metadata": {},
     "outputs": [],
     "prompt_number": 85
    },
    {
     "cell_type": "code",
     "collapsed": false,
     "input": [
      "t * "
     ],
     "language": "python",
     "metadata": {},
     "outputs": [
      {
       "output_type": "pyout",
       "prompt_number": 89,
       "text": [
        "array([[  200000.,   100000.,   100000.,     1000.,        0.,        0.,   200000.],\n",
        "       [  100000.,   200000.,   600000.,        0.,     1000.,        0.,   300000.],\n",
        "       [-1000000., -1400000., -3000000.,        0.,        0.,     1000.,        0.]])"
       ]
      }
     ],
     "prompt_number": 89
    },
    {
     "cell_type": "markdown",
     "metadata": {},
     "source": [
      "# Setting up the Tableau class"
     ]
    },
    {
     "cell_type": "code",
     "collapsed": false,
     "input": [
      "class Tableau(object):\n",
      "    def __init__(self, arr, show_steps=False):\n",
      "        self.t = arr.copy()\n",
      "        self.pivot = None\n",
      "        self.solved = False\n",
      "        self._pivot_count = 0\n",
      "        self._show_steps = show_steps\n",
      "        \n",
      "        \n",
      "    def __repr__(self):\n",
      "        return \"\\n\" + self.t.__repr__()\n",
      "    \n",
      "    \n",
      "    def get_pivot_point(self):\n",
      "        # Find the pivot column, the smallest number in the bottom row\n",
      "        col, = np.where(self.t[-1] == self.t[-1].min())\n",
      "        assert col.size == 1 # If there are two equal values we might have a problem\n",
      "        col = col[0] # Unpack the array\n",
      "        \n",
      "        # Find the pivot row\n",
      "        # Divide the last column by the pivot column.\n",
      "        # The pivot row is the smallest positive quotent (excluding the bottom row)\n",
      "        ratios = self.t[:,-1] / self.t[:,col]\n",
      "        ratios = ratios[:-1]           # Remove the last element in the ratios\n",
      "        if self._show_steps:\n",
      "            print \"The ratio column is:\", ratios\n",
      "        ratios = np.where(ratios < 0, 0, ratios)    # This removes all negative numbers. \n",
      "        \n",
      "        row, = np.where(ratios == ratios[np.nonzero(ratios)].min())  #np.nonzero stops us from finding a zero\n",
      "        row = row[0] # Unpack the array\n",
      "        assert row.size == 1 # We could have a probleme if the numbers are equal\n",
      "        self.pivot = (row, col)\n",
      "        if self._show_steps:\n",
      "            print \"The pivot point is\", self.pivot\n",
      "               \n",
      "    def one_row(self):\n",
      "        row, col = self.pivot\n",
      "        self.t[row] = self.t[row] / self.t[row, col]\n",
      "        if self._show_steps:\n",
      "            print self.t\n",
      "        \n",
      "        \n",
      "    def zero_rows(self):\n",
      "        pivot_row, pivot_col = self.pivot\n",
      "        tab_rows, tab_cols = self.t.shape\n",
      "        for row in range(tab_rows):\n",
      "            if row != pivot_row and self.t[row, pivot_col] != 0:\n",
      "                if self._show_steps:\n",
      "                    print \"zeroing row:\", row\n",
      "                self._zero_row(row, pivot_row, pivot_col)\n",
      "        if self._show_steps:\n",
      "            print self.t, \"\\n\\n\"\n",
      "        \n",
      "    \n",
      "    def _zero_row(self, row, pivot_row, pivot_col):\n",
      "        self.t[row] = self.t[row] + -self.t[row, pivot_col] * self.t[pivot_row] \n",
      "    \n",
      "    \n",
      "    def perfom_pivot(self):\n",
      "        if self.pivot:\n",
      "            # Turn the pivot row to one\n",
      "            self.one_row()\n",
      "            \n",
      "            # turn all other columns to zero\n",
      "            self.zero_rows()\n",
      "            \n",
      "            # Clear the pivot\n",
      "            self.pivot = None\n",
      "            \n",
      "            \n",
      "    def solve(self):\n",
      "        while True:\n",
      "            self._pivot_count += 1\n",
      "            if self._pivot_count > 100:\n",
      "                print \"Pivoting too many times. Something's wrong\"\n",
      "                break\n",
      "            \n",
      "            # Stop if there are no negative elements in the bottom row\n",
      "            neg_nums = np.where(self.t[-1] < 0)[0]\n",
      "            if neg_nums.size == 0:\n",
      "                print \"No negative numbers in the bottom row.\"\n",
      "                print \"Optimal solution is found.\" \n",
      "                if self._show_steps:\n",
      "                    print self.t, \"\\n\\n\"\n",
      "                break\n",
      "            else: \n",
      "                self.get_pivot_point()                        \n",
      "                # TODO: Add logic for stopping when there are no positive elements in the pivot column\n",
      "                self.perfom_pivot()\n",
      "            \n",
      "            \n",
      "    def answer(self):\n",
      "        return self.t[-1]"
     ],
     "language": "python",
     "metadata": {},
     "outputs": [],
     "prompt_number": 77
    },
    {
     "cell_type": "markdown",
     "metadata": {},
     "source": [
      "\n",
      "--------\n",
      "# Test problems\n",
      "### Test -- perform step-by-step\n",
      "Sec 4.2 P.239"
     ]
    },
    {
     "cell_type": "code",
     "collapsed": false,
     "input": [
      "a = np.array([[  -1.,    0.,    1.,    0.,    0.,    1.,    0.,    0.,    0.,    0.,    0.,    0.,   20.],\n",
      "              [  -1.,    0.,    0.,    1.,    0.,    0.,    1.,    0.,    0.,    0.,    0.,    0.,    8.],\n",
      "              [  -1.,    0.,    0.,    0.,    1.,    0.,    0.,    1.,    0.,    0.,    0.,    0.,   10.],\n",
      "              [   0.,   -1.,    1.,    0.,    0.,    0.,    0.,    0.,    1.,    0.,    0.,    0.,   12.],\n",
      "              [   0.,   -1.,    0.,    1.,    0.,    0.,    0.,    0.,    0.,    1.,    0.,    0.,   22.],\n",
      "              [   0.,   -1.,    0.,    0.,    1.,    0.,    0.,    0.,    0.,    0.,    1.,    0.,   18.],\n",
      "              [ 400.,  600., -200., -300., -400.,    0.,    0.,    0.,    0.,    0.,    0.,    1.,    0.]], \n",
      "              dtype=np.float)\n",
      "\n",
      "\n",
      "t = Tableau(a)\n",
      "\n",
      "print t\n",
      "\n",
      "t.get_pivot_point()\n",
      "t.perfom_pivot()\n",
      "print t"
     ],
     "language": "python",
     "metadata": {},
     "outputs": [
      {
       "output_type": "stream",
       "stream": "stdout",
       "text": [
        "\n",
        "array([[  -1.,    0.,    1.,    0.,    0.,    1.,    0.,    0.,    0.,    0.,    0.,    0.,   20.],\n",
        "       [  -1.,    0.,    0.,    1.,    0.,    0.,    1.,    0.,    0.,    0.,    0.,    0.,    8.],\n",
        "       [  -1.,    0.,    0.,    0.,    1.,    0.,    0.,    1.,    0.,    0.,    0.,    0.,   10.],\n",
        "       [   0.,   -1.,    1.,    0.,    0.,    0.,    0.,    0.,    1.,    0.,    0.,    0.,   12.],\n",
        "       [   0.,   -1.,    0.,    1.,    0.,    0.,    0.,    0.,    0.,    1.,    0.,    0.,   22.],\n",
        "       [   0.,   -1.,    0.,    0.,    1.,    0.,    0.,    0.,    0.,    0.,    1.,    0.,   18.],\n",
        "       [ 400.,  600., -200., -300., -400.,    0.,    0.,    0.,    0.,    0.,    0.,    1.,    0.]])\n",
        "\n",
        "array([[   -1.,     0.,     1.,     0.,     0.,     1.,     0.,     0.,     0.,     0.,     0.,     0.,    20.],\n",
        "       [   -1.,     0.,     0.,     1.,     0.,     0.,     1.,     0.,     0.,     0.,     0.,     0.,     8.],\n",
        "       [   -1.,     0.,     0.,     0.,     1.,     0.,     0.,     1.,     0.,     0.,     0.,     0.,    10.],\n",
        "       [    0.,    -1.,     1.,     0.,     0.,     0.,     0.,     0.,     1.,     0.,     0.,     0.,    12.],\n",
        "       [    0.,    -1.,     0.,     1.,     0.,     0.,     0.,     0.,     0.,     1.,     0.,     0.,    22.],\n",
        "       [    1.,    -1.,     0.,     0.,     0.,     0.,     0.,    -1.,     0.,     0.,     1.,     0.,     8.],\n",
        "       [    0.,   600.,  -200.,  -300.,     0.,     0.,     0.,   400.,     0.,     0.,     0.,     1.,  4000.]])\n"
       ]
      }
     ],
     "prompt_number": 81
    },
    {
     "cell_type": "code",
     "collapsed": false,
     "input": [
      "print \"\\n\\n Perform another Pivot... \\n\\n\"\n",
      "t.get_pivot_point()\n",
      "t.perfom_pivot()\n",
      "print t"
     ],
     "language": "python",
     "metadata": {},
     "outputs": [
      {
       "ename": "AssertionError",
       "evalue": "",
       "output_type": "pyerr",
       "traceback": [
        "\u001b[0;31m---------------------------------------------------------------------------\u001b[0m\n\u001b[0;31mAssertionError\u001b[0m                            Traceback (most recent call last)",
        "\u001b[0;32m<ipython-input-84-ed5ae4c2f624>\u001b[0m in \u001b[0;36m<module>\u001b[0;34m()\u001b[0m\n\u001b[1;32m      1\u001b[0m \u001b[0;32mprint\u001b[0m \u001b[0;34m\"\\n\\n Perform another Pivot... \\n\\n\"\u001b[0m\u001b[0;34m\u001b[0m\u001b[0m\n\u001b[0;32m----> 2\u001b[0;31m \u001b[0mt\u001b[0m\u001b[0;34m.\u001b[0m\u001b[0mget_pivot_point\u001b[0m\u001b[0;34m(\u001b[0m\u001b[0;34m)\u001b[0m\u001b[0;34m\u001b[0m\u001b[0m\n\u001b[0m\u001b[1;32m      3\u001b[0m \u001b[0mt\u001b[0m\u001b[0;34m.\u001b[0m\u001b[0mperfom_pivot\u001b[0m\u001b[0;34m(\u001b[0m\u001b[0;34m)\u001b[0m\u001b[0;34m\u001b[0m\u001b[0m\n\u001b[1;32m      4\u001b[0m \u001b[0;32mprint\u001b[0m \u001b[0mt\u001b[0m\u001b[0;34m\u001b[0m\u001b[0m\n",
        "\u001b[0;32m<ipython-input-77-29eba0b89829>\u001b[0m in \u001b[0;36mget_pivot_point\u001b[0;34m(self)\u001b[0m\n\u001b[1;32m     15\u001b[0m         \u001b[0;31m# Find the pivot column, the smallest number in the bottom row\u001b[0m\u001b[0;34m\u001b[0m\u001b[0;34m\u001b[0m\u001b[0m\n\u001b[1;32m     16\u001b[0m         \u001b[0mcol\u001b[0m\u001b[0;34m,\u001b[0m \u001b[0;34m=\u001b[0m \u001b[0mnp\u001b[0m\u001b[0;34m.\u001b[0m\u001b[0mwhere\u001b[0m\u001b[0;34m(\u001b[0m\u001b[0mself\u001b[0m\u001b[0;34m.\u001b[0m\u001b[0mt\u001b[0m\u001b[0;34m[\u001b[0m\u001b[0;34m-\u001b[0m\u001b[0;36m1\u001b[0m\u001b[0;34m]\u001b[0m \u001b[0;34m==\u001b[0m \u001b[0mself\u001b[0m\u001b[0;34m.\u001b[0m\u001b[0mt\u001b[0m\u001b[0;34m[\u001b[0m\u001b[0;34m-\u001b[0m\u001b[0;36m1\u001b[0m\u001b[0;34m]\u001b[0m\u001b[0;34m.\u001b[0m\u001b[0mmin\u001b[0m\u001b[0;34m(\u001b[0m\u001b[0;34m)\u001b[0m\u001b[0;34m)\u001b[0m\u001b[0;34m\u001b[0m\u001b[0m\n\u001b[0;32m---> 17\u001b[0;31m         \u001b[0;32massert\u001b[0m \u001b[0mcol\u001b[0m\u001b[0;34m.\u001b[0m\u001b[0msize\u001b[0m \u001b[0;34m==\u001b[0m \u001b[0;36m1\u001b[0m \u001b[0;31m# If there are two equal values we might have a problem\u001b[0m\u001b[0;34m\u001b[0m\u001b[0m\n\u001b[0m\u001b[1;32m     18\u001b[0m         \u001b[0mcol\u001b[0m \u001b[0;34m=\u001b[0m \u001b[0mcol\u001b[0m\u001b[0;34m[\u001b[0m\u001b[0;36m0\u001b[0m\u001b[0;34m]\u001b[0m \u001b[0;31m# Unpack the array\u001b[0m\u001b[0;34m\u001b[0m\u001b[0m\n\u001b[1;32m     19\u001b[0m \u001b[0;34m\u001b[0m\u001b[0m\n",
        "\u001b[0;31mAssertionError\u001b[0m: "
       ]
      },
      {
       "output_type": "stream",
       "stream": "stdout",
       "text": [
        "\n",
        "\n",
        " Perform another Pivot... \n",
        "\n",
        "\n"
       ]
      }
     ],
     "prompt_number": 84
    },
    {
     "cell_type": "code",
     "collapsed": false,
     "input": [
      "print \"\\n\\n Perform another Pivot... \\n\\n\"\n",
      "t.get_pivot_point()\n",
      "t.perfom_pivot()\n",
      "print t\n",
      "\n",
      "print \"\\n\\n Perform another Pivot... \\n\\n\"\n",
      "t.get_pivot_point()\n",
      "t.perfom_pivot()\n",
      "print t"
     ],
     "language": "python",
     "metadata": {},
     "outputs": [
      {
       "output_type": "stream",
       "stream": "stdout",
       "text": [
        "\n",
        "\n",
        " Perform another Pivot... \n",
        "\n",
        "\n",
        "\n",
        "array([[   -1.,     0.,     1.,     0.,     0.,     1.,     0.,     0.,     0.,     0.,     0.,     0.,    20.],\n",
        "       [   -1.,     0.,     0.,     1.,     0.,     0.,     1.,     0.,     0.,     0.,     0.,     0.,     8.],\n",
        "       [   -1.,     0.,     0.,     0.,     1.,     0.,     0.,     1.,     0.,     0.,     0.,     0.,    10.],\n",
        "       [    0.,    -1.,     1.,     0.,     0.,     0.,     0.,     0.,     1.,     0.,     0.,     0.,    12.],\n",
        "       [    1.,    -1.,     0.,     0.,     0.,     0.,    -1.,     0.,     0.,     1.,     0.,     0.,    14.],\n",
        "       [    1.,    -1.,     0.,     0.,     0.,     0.,     0.,    -1.,     0.,     0.,     1.,     0.,     8.],\n",
        "       [ -300.,   600.,  -200.,     0.,     0.,     0.,   300.,   400.,     0.,     0.,     0.,     1.,  6400.]])\n",
        "\n",
        "\n",
        " Perform another Pivot... \n",
        "\n",
        "\n",
        "\n",
        "array([[    0.,    -1.,     1.,     0.,     0.,     1.,     0.,    -1.,     0.,     0.,     1.,     0.,    28.],\n",
        "       [    0.,    -1.,     0.,     1.,     0.,     0.,     1.,    -1.,     0.,     0.,     1.,     0.,    16.],\n",
        "       [    0.,    -1.,     0.,     0.,     1.,     0.,     0.,     0.,     0.,     0.,     1.,     0.,    18.],\n",
        "       [    0.,    -1.,     1.,     0.,     0.,     0.,     0.,     0.,     1.,     0.,     0.,     0.,    12.],\n",
        "       [    0.,     0.,     0.,     0.,     0.,     0.,    -1.,     1.,     0.,     1.,    -1.,     0.,     6.],\n",
        "       [    1.,    -1.,     0.,     0.,     0.,     0.,     0.,    -1.,     0.,     0.,     1.,     0.,     8.],\n",
        "       [    0.,   300.,  -200.,     0.,     0.,     0.,   300.,   100.,     0.,     0.,   300.,     1.,  8800.]])\n"
       ]
      }
     ],
     "prompt_number": 82
    },
    {
     "cell_type": "markdown",
     "metadata": {},
     "source": [
      "\n",
      "### Test problem -- use `.solve()` method\n",
      "\n",
      "Sec 4.2 P.239"
     ]
    },
    {
     "cell_type": "code",
     "collapsed": false,
     "input": [
      "a = np.array([[  -1.,    0.,    1.,    0.,    0.,    1.,    0.,    0.,    0.,    0.,    0.,    0.,   20.],\n",
      "              [  -1.,    0.,    0.,    1.,    0.,    0.,    1.,    0.,    0.,    0.,    0.,    0.,    8.],\n",
      "              [  -1.,    0.,    0.,    0.,    1.,    0.,    0.,    1.,    0.,    0.,    0.,    0.,   10.],\n",
      "              [   0.,   -1.,    1.,    0.,    0.,    0.,    0.,    0.,    1.,    0.,    0.,    0.,   12.],\n",
      "              [   0.,   -1.,    0.,    1.,    0.,    0.,    0.,    0.,    0.,    1.,    0.,    0.,   22.],\n",
      "              [   0.,   -1.,    0.,    0.,    1.,    0.,    0.,    0.,    0.,    0.,    1.,    0.,   18.],\n",
      "              [ 400.,  600., -200., -300., -400.,    0.,    0.,    0.,    0.,    0.,    0.,    1.,    0.]], \n",
      "              dtype=np.float)\n",
      "\n",
      "v = Tableau(a, show_steps=True)\n",
      "print v\n",
      "v.solve()\n",
      "print v"
     ],
     "language": "python",
     "metadata": {},
     "outputs": [
      {
       "output_type": "stream",
       "stream": "stdout",
       "text": [
        "\n",
        "array([[  -1.,    0.,    1.,    0.,    0.,    1.,    0.,    0.,    0.,    0.,    0.,    0.,   20.],\n",
        "       [  -1.,    0.,    0.,    1.,    0.,    0.,    1.,    0.,    0.,    0.,    0.,    0.,    8.],\n",
        "       [  -1.,    0.,    0.,    0.,    1.,    0.,    0.,    1.,    0.,    0.,    0.,    0.,   10.],\n",
        "       [   0.,   -1.,    1.,    0.,    0.,    0.,    0.,    0.,    1.,    0.,    0.,    0.,   12.],\n",
        "       [   0.,   -1.,    0.,    1.,    0.,    0.,    0.,    0.,    0.,    1.,    0.,    0.,   22.],\n",
        "       [   0.,   -1.,    0.,    0.,    1.,    0.,    0.,    0.,    0.,    0.,    1.,    0.,   18.],\n",
        "       [ 400.,  600., -200., -300., -400.,    0.,    0.,    0.,    0.,    0.,    0.,    1.,    0.]])\n",
        "The ratio column is: [ inf  inf  10.  inf  inf  18.]\n",
        "The pivot point is (2, 4)\n",
        "[[  -1.    0.    1.    0.    0.    1.    0.    0.    0.    0.    0.    0.   20.]\n",
        " [  -1.    0.    0.    1.    0.    0.    1.    0.    0.    0.    0.    0.    8.]\n",
        " [  -1.    0.    0.    0.    1.    0.    0.    1.    0.    0.    0.    0.   10.]\n",
        " [   0.   -1.    1.    0.    0.    0.    0.    0.    1.    0.    0.    0.   12.]\n",
        " [   0.   -1.    0.    1.    0.    0.    0.    0.    0.    1.    0.    0.   22.]\n",
        " [   0.   -1.    0.    0.    1.    0.    0.    0.    0.    0.    1.    0.   18.]\n",
        " [ 400.  600. -200. -300. -400.    0.    0.    0.    0.    0.    0.    1.    0.]]\n",
        "zeroing row: 5\n",
        "zeroing row: 6\n",
        "[[   -1.     0.     1.     0.     0.     1.     0.     0.     0.     0.     0.     0.    20.]\n",
        " [   -1.     0.     0.     1.     0.     0.     1.     0.     0.     0.     0.     0.     8.]\n",
        " [   -1.     0.     0.     0.     1.     0.     0.     1.     0.     0.     0.     0.    10.]\n",
        " [    0.    -1.     1.     0.     0.     0.     0.     0.     1.     0.     0.     0.    12.]\n",
        " [    0.    -1.     0.     1.     0.     0.     0.     0.     0.     1.     0.     0.    22.]\n",
        " [    1.    -1.     0.     0.     0.     0.     0.    -1.     0.     0.     1.     0.     8.]\n",
        " [    0.   600.  -200.  -300.     0.     0.     0.   400.     0.     0.     0.     1.  4000.]] \n",
        "\n",
        "\n",
        "The ratio column is: [ inf   8.  inf  inf  22.  inf]\n",
        "The pivot point is (1, 3)\n",
        "[[   -1.     0.     1.     0.     0.     1.     0.     0.     0.     0.     0.     0.    20.]\n",
        " [   -1.     0.     0.     1.     0.     0.     1.     0.     0.     0.     0.     0.     8.]\n",
        " [   -1.     0.     0.     0.     1.     0.     0.     1.     0.     0.     0.     0.    10.]\n",
        " [    0.    -1.     1.     0.     0.     0.     0.     0.     1.     0.     0.     0.    12.]\n",
        " [    0.    -1.     0.     1.     0.     0.     0.     0.     0.     1.     0.     0.    22.]\n",
        " [    1.    -1.     0.     0.     0.     0.     0.    -1.     0.     0.     1.     0.     8.]\n",
        " [    0.   600.  -200.  -300.     0.     0.     0.   400.     0.     0.     0.     1.  4000.]]\n",
        "zeroing row: 4\n",
        "zeroing row: 6\n",
        "[[   -1.     0.     1.     0.     0.     1.     0.     0.     0.     0.     0.     0.    20.]\n",
        " [   -1.     0.     0.     1.     0.     0.     1.     0.     0.     0.     0.     0.     8.]\n",
        " [   -1.     0.     0.     0.     1.     0.     0.     1.     0.     0.     0.     0.    10.]\n",
        " [    0.    -1.     1.     0.     0.     0.     0.     0.     1.     0.     0.     0.    12.]\n",
        " [    1.    -1.     0.     0.     0.     0.    -1.     0.     0.     1.     0.     0.    14.]\n",
        " [    1.    -1.     0.     0.     0.     0.     0.    -1.     0.     0.     1.     0.     8.]\n",
        " [ -300.   600.  -200.     0.     0.     0.   300.   400.     0.     0.     0.     1.  6400.]] \n",
        "\n",
        "\n",
        "The ratio column is: [-20.  -8. -10.  inf  14.   8.]\n",
        "The pivot point is (5, 0)\n",
        "[[   -1.     0.     1.     0.     0.     1.     0.     0.     0.     0.     0.     0.    20.]\n",
        " [   -1.     0.     0.     1.     0.     0.     1.     0.     0.     0.     0.     0.     8.]\n",
        " [   -1.     0.     0.     0.     1.     0.     0.     1.     0.     0.     0.     0.    10.]\n",
        " [    0.    -1.     1.     0.     0.     0.     0.     0.     1.     0.     0.     0.    12.]\n",
        " [    1.    -1.     0.     0.     0.     0.    -1.     0.     0.     1.     0.     0.    14.]\n",
        " [    1.    -1.     0.     0.     0.     0.     0.    -1.     0.     0.     1.     0.     8.]\n",
        " [ -300.   600.  -200.     0.     0.     0.   300.   400.     0.     0.     0.     1.  6400.]]\n",
        "zeroing row: 0\n",
        "zeroing row: 1\n",
        "zeroing row: 2\n",
        "zeroing row: 4\n",
        "zeroing row: 6\n",
        "[[    0.    -1.     1.     0.     0.     1.     0.    -1.     0.     0.     1.     0.    28.]\n",
        " [    0.    -1.     0.     1.     0.     0.     1.    -1.     0.     0.     1.     0.    16.]\n",
        " [    0.    -1.     0.     0.     1.     0.     0.     0.     0.     0.     1.     0.    18.]\n",
        " [    0.    -1.     1.     0.     0.     0.     0.     0.     1.     0.     0.     0.    12.]\n",
        " [    0.     0.     0.     0.     0.     0.    -1.     1.     0.     1.    -1.     0.     6.]\n",
        " [    1.    -1.     0.     0.     0.     0.     0.    -1.     0.     0.     1.     0.     8.]\n",
        " [    0.   300.  -200.     0.     0.     0.   300.   100.     0.     0.   300.     1.  8800.]] \n",
        "\n",
        "\n",
        "The ratio column is: [ 28.  inf  inf  12.  inf  inf]\n",
        "The pivot point is (3, 2)\n",
        "[[    0.    -1.     1.     0.     0.     1.     0.    -1.     0.     0.     1.     0.    28.]\n",
        " [    0.    -1.     0.     1.     0.     0.     1.    -1.     0.     0.     1.     0.    16.]\n",
        " [    0.    -1.     0.     0.     1.     0.     0.     0.     0.     0.     1.     0.    18.]\n",
        " [    0.    -1.     1.     0.     0.     0.     0.     0.     1.     0.     0.     0.    12.]\n",
        " [    0.     0.     0.     0.     0.     0.    -1.     1.     0.     1.    -1.     0.     6.]\n",
        " [    1.    -1.     0.     0.     0.     0.     0.    -1.     0.     0.     1.     0.     8.]\n",
        " [    0.   300.  -200.     0.     0.     0.   300.   100.     0.     0.   300.     1.  8800.]]\n",
        "zeroing row: 0\n",
        "zeroing row: 6\n",
        "[[     0.      0.      0.      0.      0.      1.      0.     -1.     -1.      0.      1.      0.     16.]\n",
        " [     0.     -1.      0.      1.      0.      0.      1.     -1.      0.      0.      1.      0.     16.]\n",
        " [     0.     -1.      0.      0.      1.      0.      0.      0.      0.      0.      1.      0.     18.]\n",
        " [     0.     -1.      1.      0.      0.      0.      0.      0.      1.      0.      0.      0.     12.]\n",
        " [     0.      0.      0.      0.      0.      0.     -1.      1.      0.      1.     -1.      0.      6.]\n",
        " [     1.     -1.      0.      0.      0.      0.      0.     -1.      0.      0.      1.      0.      8.]\n",
        " [     0.    100.      0.      0.      0.      0.    300.    100.    200.      0.    300.      1.  11200.]] \n",
        "\n",
        "\n",
        "No negative numbers in the bottom row.\n",
        "Optimal solution is found.\n",
        "[[     0.      0.      0.      0.      0.      1.      0.     -1.     -1.      0.      1.      0.     16.]\n",
        " [     0.     -1.      0.      1.      0.      0.      1.     -1.      0.      0.      1.      0.     16.]\n",
        " [     0.     -1.      0.      0.      1.      0.      0.      0.      0.      0.      1.      0.     18.]\n",
        " [     0.     -1.      1.      0.      0.      0.      0.      0.      1.      0.      0.      0.     12.]\n",
        " [     0.      0.      0.      0.      0.      0.     -1.      1.      0.      1.     -1.      0.      6.]\n",
        " [     1.     -1.      0.      0.      0.      0.      0.     -1.      0.      0.      1.      0.      8.]\n",
        " [     0.    100.      0.      0.      0.      0.    300.    100.    200.      0.    300.      1.  11200.]] \n",
        "\n",
        "\n",
        "\n",
        "array([[     0.,      0.,      0.,      0.,      0.,      1.,      0.,     -1.,     -1.,      0.,      1.,      0.,     16.],\n",
        "       [     0.,     -1.,      0.,      1.,      0.,      0.,      1.,     -1.,      0.,      0.,      1.,      0.,     16.],\n",
        "       [     0.,     -1.,      0.,      0.,      1.,      0.,      0.,      0.,      0.,      0.,      1.,      0.,     18.],\n",
        "       [     0.,     -1.,      1.,      0.,      0.,      0.,      0.,      0.,      1.,      0.,      0.,      0.,     12.],\n",
        "       [     0.,      0.,      0.,      0.,      0.,      0.,     -1.,      1.,      0.,      1.,     -1.,      0.,      6.],\n",
        "       [     1.,     -1.,      0.,      0.,      0.,      0.,      0.,     -1.,      0.,      0.,      1.,      0.,      8.],\n",
        "       [     0.,    100.,      0.,      0.,      0.,      0.,    300.,    100.,    200.,      0.,    300.,      1.,  11200.]])\n"
       ]
      }
     ],
     "prompt_number": 80
    },
    {
     "cell_type": "markdown",
     "metadata": {},
     "source": [
      "### Check the equality of the two solutions\n"
     ]
    },
    {
     "cell_type": "code",
     "collapsed": false,
     "input": [
      "t.t"
     ],
     "language": "python",
     "metadata": {},
     "outputs": [
      {
       "output_type": "pyout",
       "prompt_number": 92,
       "text": [
        "array([[  1.   ,   0.   ,  -1.333,   0.007,  -0.003,   0.   ,   0.333],\n",
        "       [  0.   ,   1.   ,   3.667,  -0.003,   0.007,   0.   ,   1.333],\n",
        "       [  0.   ,   0.   ,   8.   ,   0.02 ,   0.06 ,   0.01 ,  22.   ]])"
       ]
      }
     ],
     "prompt_number": 92
    },
    {
     "cell_type": "code",
     "collapsed": false,
     "input": [
      "v.t == t.t"
     ],
     "language": "python",
     "metadata": {},
     "outputs": [
      {
       "output_type": "pyout",
       "prompt_number": 95,
       "text": [
        "False"
       ]
      }
     ],
     "prompt_number": 95
    },
    {
     "cell_type": "markdown",
     "metadata": {},
     "source": [
      "---------"
     ]
    },
    {
     "cell_type": "code",
     "collapsed": false,
     "input": [
      "tab = Tableau([[200, 100, 100, 1, 0, 0, 200], \\\n",
      "              [100, 200, 600, 0, 1, 0, 300], \\\n",
      "              [-1000, -1400, -3000, 0, 0, 1, 0]], \\\n",
      "             dtype=np.float)"
     ],
     "language": "python",
     "metadata": {},
     "outputs": []
    },
    {
     "cell_type": "code",
     "collapsed": false,
     "input": [],
     "language": "python",
     "metadata": {},
     "outputs": []
    },
    {
     "cell_type": "markdown",
     "metadata": {},
     "source": [
      "# Tests"
     ]
    },
    {
     "cell_type": "code",
     "collapsed": false,
     "input": [
      "arr = np.array([[8, 8, 1, 1, 0, 0, 3], \\\n",
      "                [1, 5, 5, 0, 1, 0, 2], \\\n",
      "                [-80, -240, -100, 0, 0, 1, 0]],\n",
      "               dtype=np.float)\n",
      "\n",
      "# The answer is just the bottom row, not the whole tablau\n",
      "answer = np.array([96, 0, 0, 20, 16, 1, 92], dtype=np.float)\n",
      "\n",
      "t = Tableau(arr)\n",
      "t.solve()\n",
      "t.answer() == answer\n",
      "print t.answer()"
     ],
     "language": "python",
     "metadata": {},
     "outputs": []
    },
    {
     "cell_type": "code",
     "collapsed": false,
     "input": [
      "a = np.array([[200, 100, 100, 1, 0, 0, 200], \\\n",
      "              [100, 200, 600, 0, 1, 0, 300], \\\n",
      "              [-1000, -1400, -3000, 0, 0, 1, 0]], \\\n",
      "             dtype=np.float)\n",
      "\n",
      "a = a / 100.\n",
      "\n",
      "t = Tableau(a)\n",
      "print t\n",
      "t.solve()\n",
      "print t\n",
      "print \"\\n\\nanswer:\", t.answer() * 100"
     ],
     "language": "python",
     "metadata": {},
     "outputs": [
      {
       "output_type": "stream",
       "stream": "stdout",
       "text": [
        "\n",
        "array([[  2.  ,   1.  ,   1.  ,   0.01,   0.  ,   0.  ,   2.  ],\n",
        "       [  1.  ,   2.  ,   6.  ,   0.  ,   0.01,   0.  ,   3.  ],\n",
        "       [-10.  , -14.  , -30.  ,   0.  ,   0.  ,   0.01,   0.  ]])\n",
        "No negative numbers in the bottom row.\n",
        "Optimal solution is found.\n",
        "\n",
        "array([[  1.   ,   0.   ,  -1.333,   0.007,  -0.003,   0.   ,   0.333],\n",
        "       [  0.   ,   1.   ,   3.667,  -0.003,   0.007,   0.   ,   1.333],\n",
        "       [  0.   ,   0.   ,   8.   ,   0.02 ,   0.06 ,   0.01 ,  22.   ]])\n",
        "\n",
        "\n",
        "answer: [    0.     0.   800.     2.     6.     1.  2200.]\n"
       ]
      }
     ],
     "prompt_number": 91
    },
    {
     "cell_type": "markdown",
     "metadata": {},
     "source": [
      "## Scratch pad"
     ]
    },
    {
     "cell_type": "code",
     "collapsed": false,
     "input": [
      "r1 = 2\n",
      "r2 = 6\n",
      "\n",
      "cost = 200*r1 + 300*r2\n",
      "print \"Cost:\", cost\n",
      "\n",
      "print 200*r1 + 100*r2, \">= 1000\"\n",
      "print 100*r1 + 200*r2, \">= 1400\"\n",
      "print 100*r1 + 600*r2, \">= 3000\"\n"
     ],
     "language": "python",
     "metadata": {},
     "outputs": []
    },
    {
     "cell_type": "code",
     "collapsed": false,
     "input": [],
     "language": "python",
     "metadata": {},
     "outputs": []
    },
    {
     "cell_type": "code",
     "collapsed": false,
     "input": [],
     "language": "python",
     "metadata": {},
     "outputs": []
    }
   ],
   "metadata": {}
  }
 ]
}
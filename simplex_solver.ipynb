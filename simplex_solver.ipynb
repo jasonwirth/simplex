{
 "metadata": {
  "name": "simplex_solver"
 },
 "nbformat": 3,
 "nbformat_minor": 0,
 "worksheets": [
  {
   "cells": [
    {
     "cell_type": "markdown",
     "metadata": {},
     "source": [
      "# Finite Math Simplex Solver\n",
      "\n",
      "#### By: Jason Wirth\n",
      "\n",
      "\n",
      "This is a `Tableau` class that can be used to solve problems with the simplex method.\n",
      "\n",
      "The first we define a numpy array, then create a `Tableau` object usingn our matrix. Finally we can call `solve()` to generate the solved matrix.\n",
      "\n",
      "Note, this array must include the slack variables and the objective function as the last row.\n",
      "\n",
      "\n",
      "## How it works:\n",
      "\n",
      "**Tableau.solve()** calls a series of utility methods until either the problem is solved, or no answer is found.\n",
      "\n",
      "### The Utility methods are:\n",
      "    \n",
      " - **get_pivot_point()**: Which returns the pivot point\n",
      " - **one_row()**: This turns the pivot element into a 1, which is then used to produce zeros in the remaining rows.\n",
      " - **zero_row()**: This multiplies the pivot row by negative inverse to \"zero out\" all the values in the column.\n",
      " - **perform_pivot()**: A utility method that performs one pivot operation. The process completes when all the values in the pivot column have been reduced.\n",
      " - **solve()**: Performs n-pivots until the problem is complete.\n",
      " - **answer()**: Returns the bottom row of the tableau. This is equivalent to calling the slice `t[-1]`\n",
      "                            \n",
      "                            \n",
      "### Notes:\n",
      "\n",
      "This has been tested on a couple problems from the book and gives the correct answer. However, some edge cases might cause the Tableau to crash. Namely, when there are no positive elements in the pivot column, or the problem is not convex."
     ]
    },
    {
     "cell_type": "code",
     "collapsed": false,
     "input": [
      "import numpy as np\n",
      "np.set_printoptions(precision=3, suppress=True, linewidth=150)\n",
      "%config IPCompleter.greedy = True"
     ],
     "language": "python",
     "metadata": {},
     "outputs": [],
     "prompt_number": 4
    },
    {
     "cell_type": "markdown",
     "metadata": {},
     "source": [
      "# Setting up the Tableau class"
     ]
    },
    {
     "cell_type": "code",
     "collapsed": false,
     "input": [
      "class Tableau(object):\n",
      "    def __init__(self, arr, show_steps=False):\n",
      "        self.t = arr.copy()\n",
      "        self.pivot = None\n",
      "        self.solved = False\n",
      "        self._pivot_count = 0\n",
      "        self._show_steps = show_steps\n",
      "        \n",
      "        \n",
      "    def __repr__(self):\n",
      "        return \"\\n\" + self.t.__repr__()\n",
      "    \n",
      "    \n",
      "    def get_pivot_point(self):\n",
      "        # Find the pivot column, the smallest number in the bottom row\n",
      "        col, = np.where(self.t[-1] == self.t[-1].min())\n",
      "        assert col.size == 1 # If there are two equal values we might have a problem\n",
      "        col = col[0] # Unpack the array\n",
      "        \n",
      "        # Find the pivot row\n",
      "        # Divide the last column by the pivot column.\n",
      "        # The pivot row is the smallest positive quotent (excluding the bottom row)\n",
      "        ratios = self.t[:,-1] / self.t[:,col]\n",
      "        ratios = ratios[:-1]           # Remove the last element in the ratios\n",
      "        if self._show_steps:\n",
      "            print \"The ratio column is:\", ratios\n",
      "        ratios = np.where(ratios < 0, 0, ratios)    # This removes all negative numbers. \n",
      "        \n",
      "        row, = np.where(ratios == ratios[np.nonzero(ratios)].min())  #np.nonzero stops us from finding a zero\n",
      "        row = row[0] # Unpack the array\n",
      "        assert row.size == 1 # We could have a probleme if the numbers are equal\n",
      "        self.pivot = (row, col)\n",
      "        if self._show_steps:\n",
      "            print \"The pivot point is\", self.pivot\n",
      "               \n",
      "    def one_row(self):\n",
      "        row, col = self.pivot\n",
      "        self.t[row] = self.t[row] / self.t[row, col]\n",
      "        if self._show_steps:\n",
      "            print self.t\n",
      "        \n",
      "        \n",
      "    def zero_rows(self):\n",
      "        pivot_row, pivot_col = self.pivot\n",
      "        tab_rows, tab_cols = self.t.shape\n",
      "        for row in range(tab_rows):\n",
      "            if row != pivot_row and self.t[row, pivot_col] != 0:\n",
      "                if self._show_steps:\n",
      "                    print \"zeroing row:\", row\n",
      "                self._zero_row(row, pivot_row, pivot_col)\n",
      "        if self._show_steps:\n",
      "            print self.t, \"\\n\\n\"\n",
      "        \n",
      "    \n",
      "    def _zero_row(self, row, pivot_row, pivot_col):\n",
      "        self.t[row] = self.t[row] + -self.t[row, pivot_col] * self.t[pivot_row] \n",
      "    \n",
      "    \n",
      "    def perfom_pivot(self):\n",
      "        if self.pivot:\n",
      "            # Turn the pivot row to one\n",
      "            self.one_row()\n",
      "            \n",
      "            # turn all other columns to zero\n",
      "            self.zero_rows()\n",
      "            \n",
      "            # Clear the pivot\n",
      "            self.pivot = None\n",
      "            \n",
      "            \n",
      "    def solve(self):\n",
      "        while True:\n",
      "            self._pivot_count += 1\n",
      "            if self._pivot_count > 100:\n",
      "                print \"Pivoting too many times. Something's wrong\"\n",
      "                break\n",
      "            \n",
      "            # Stop if there are no negative elements in the bottom row\n",
      "            neg_nums = np.where(self.t[-1] < 0)[0]\n",
      "            if neg_nums.size == 0:\n",
      "                print \"No negative numbers in the bottom row.\"\n",
      "                print \"Optimal solution is found.\" \n",
      "                if self._show_steps:\n",
      "                    print self.t, \"\\n\\n\"\n",
      "                break\n",
      "            else: \n",
      "                self.get_pivot_point()                        \n",
      "                # TODO: Add logic for stopping when there are no positive elements in the pivot column\n",
      "                self.perfom_pivot()\n",
      "            \n",
      "            \n",
      "    def answer(self):\n",
      "        return self.t[-1]"
     ],
     "language": "python",
     "metadata": {},
     "outputs": [],
     "prompt_number": 5
    },
    {
     "cell_type": "markdown",
     "metadata": {},
     "source": [
      "\n",
      "--------\n",
      "# Test problems\n",
      "## Sec 4.2 P.239"
     ]
    },
    {
     "cell_type": "markdown",
     "metadata": {},
     "source": [
      "\n",
      "### Test problem -- use `.solve()` method\n",
      "\n",
      "The first we define a numpy array. \n",
      "\n",
      "Note, this array must include the slack variables and the objective function as the last row."
     ]
    },
    {
     "cell_type": "code",
     "collapsed": false,
     "input": [
      "a = np.array([[  -1.,    0.,    1.,    0.,    0.,    1.,    0.,    0.,    0.,    0.,    0.,    0.,   20.],\n",
      "              [  -1.,    0.,    0.,    1.,    0.,    0.,    1.,    0.,    0.,    0.,    0.,    0.,    8.],\n",
      "              [  -1.,    0.,    0.,    0.,    1.,    0.,    0.,    1.,    0.,    0.,    0.,    0.,   10.],\n",
      "              [   0.,   -1.,    1.,    0.,    0.,    0.,    0.,    0.,    1.,    0.,    0.,    0.,   12.],\n",
      "              [   0.,   -1.,    0.,    1.,    0.,    0.,    0.,    0.,    0.,    1.,    0.,    0.,   22.],\n",
      "              [   0.,   -1.,    0.,    0.,    1.,    0.,    0.,    0.,    0.,    0.,    1.,    0.,   18.],\n",
      "              [ 400.,  600., -200., -300., -400.,    0.,    0.,    0.,    0.,    0.,    0.,    1.,    0.]], \n",
      "              dtype=np.float)"
     ],
     "language": "python",
     "metadata": {},
     "outputs": [],
     "prompt_number": 17
    },
    {
     "cell_type": "markdown",
     "metadata": {},
     "source": [
      "We can create a `Tablaeu` object, and pass in our array.\n",
      "\n",
      "We can solvet the Tableau by calling the `.solve()` method."
     ]
    },
    {
     "cell_type": "code",
     "collapsed": false,
     "input": [
      "v = Tableau(a)\n",
      "print v\n",
      "v.solve()\n",
      "print v"
     ],
     "language": "python",
     "metadata": {},
     "outputs": [
      {
       "output_type": "stream",
       "stream": "stdout",
       "text": [
        "\n",
        "array([[  -1.,    0.,    1.,    0.,    0.,    1.,    0.,    0.,    0.,    0.,    0.,    0.,   20.],\n",
        "       [  -1.,    0.,    0.,    1.,    0.,    0.,    1.,    0.,    0.,    0.,    0.,    0.,    8.],\n",
        "       [  -1.,    0.,    0.,    0.,    1.,    0.,    0.,    1.,    0.,    0.,    0.,    0.,   10.],\n",
        "       [   0.,   -1.,    1.,    0.,    0.,    0.,    0.,    0.,    1.,    0.,    0.,    0.,   12.],\n",
        "       [   0.,   -1.,    0.,    1.,    0.,    0.,    0.,    0.,    0.,    1.,    0.,    0.,   22.],\n",
        "       [   0.,   -1.,    0.,    0.,    1.,    0.,    0.,    0.,    0.,    0.,    1.,    0.,   18.],\n",
        "       [ 400.,  600., -200., -300., -400.,    0.,    0.,    0.,    0.,    0.,    0.,    1.,    0.]])\n",
        "No negative numbers in the bottom row.\n",
        "Optimal solution is found.\n",
        "\n",
        "array([[     0.,      0.,      0.,      0.,      0.,      1.,      0.,     -1.,     -1.,      0.,      1.,      0.,     16.],\n",
        "       [     0.,     -1.,      0.,      1.,      0.,      0.,      1.,     -1.,      0.,      0.,      1.,      0.,     16.],\n",
        "       [     0.,     -1.,      0.,      0.,      1.,      0.,      0.,      0.,      0.,      0.,      1.,      0.,     18.],\n",
        "       [     0.,     -1.,      1.,      0.,      0.,      0.,      0.,      0.,      1.,      0.,      0.,      0.,     12.],\n",
        "       [     0.,      0.,      0.,      0.,      0.,      0.,     -1.,      1.,      0.,      1.,     -1.,      0.,      6.],\n",
        "       [     1.,     -1.,      0.,      0.,      0.,      0.,      0.,     -1.,      0.,      0.,      1.,      0.,      8.],\n",
        "       [     0.,    100.,      0.,      0.,      0.,      0.,    300.,    100.,    200.,      0.,    300.,      1.,  11200.]])\n"
       ]
      }
     ],
     "prompt_number": 18
    },
    {
     "cell_type": "markdown",
     "metadata": {},
     "source": [
      "---------"
     ]
    },
    {
     "cell_type": "markdown",
     "metadata": {},
     "source": [
      "## Take-home Problem for Final Exam"
     ]
    },
    {
     "cell_type": "code",
     "collapsed": false,
     "input": [
      "a = np.array([[200,     100,   100, 1, 0, 0, 200], \\\n",
      "              [100,     200,   600, 0, 1, 0, 300], \\\n",
      "              [-1000, -1400, -3000, 0, 0, 1,   0]], \\\n",
      "             dtype=np.float)"
     ],
     "language": "python",
     "metadata": {},
     "outputs": [],
     "prompt_number": 21
    },
    {
     "cell_type": "code",
     "collapsed": false,
     "input": [
      "t = Tableau(a)\n",
      "print t\n",
      "t.solve()\n",
      "print t"
     ],
     "language": "python",
     "metadata": {},
     "outputs": [
      {
       "output_type": "stream",
       "stream": "stdout",
       "text": [
        "\n",
        "array([[  200.,   100.,   100.,     1.,     0.,     0.,   200.],\n",
        "       [  100.,   200.,   600.,     0.,     1.,     0.,   300.],\n",
        "       [-1000., -1400., -3000.,     0.,     0.,     1.,     0.]])\n",
        "No negative numbers in the bottom row.\n",
        "Optimal solution is found.\n",
        "\n",
        "array([[    1.   ,     0.   ,    -1.333,     0.007,    -0.003,     0.   ,     0.333],\n",
        "       [    0.   ,     1.   ,     3.667,    -0.003,     0.007,     0.   ,     1.333],\n",
        "       [    0.   ,     0.   ,   800.   ,     2.   ,     6.   ,     1.   ,  2200.   ]])\n"
       ]
      }
     ],
     "prompt_number": 22
    }
   ],
   "metadata": {}
  }
 ]
}